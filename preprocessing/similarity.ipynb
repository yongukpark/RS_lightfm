{
 "cells": [
  {
   "cell_type": "code",
   "execution_count": 8,
   "metadata": {},
   "outputs": [],
   "source": [
    "import pandas as pd\n",
    "import numpy as np\n",
    "\n",
    "data = pd.read_csv(\"./busan/output(LE).csv\")"
   ]
  },
  {
   "cell_type": "code",
   "execution_count": 9,
   "metadata": {},
   "outputs": [],
   "source": [
    "data = data.sample(n=100000, random_state=42)"
   ]
  },
  {
   "cell_type": "code",
   "execution_count": 10,
   "metadata": {},
   "outputs": [],
   "source": [
    "def clean_and_convert(value):\n",
    "    value = value.strip(\"[]\").replace(\",\", \"\")  # 대괄호와 쉼표 제거\n",
    "    value_list = value.split()  # 공백을 기준으로 분리\n",
    "    return [int(item) for item in value_list]  # 각 값을 정수로 변환\n",
    "\n",
    "data['start'] = data['start'].apply(clean_and_convert)\n",
    "data['main'] = data['main'].apply(clean_and_convert)\n",
    "data['end'] = data['end'].apply(clean_and_convert)"
   ]
  },
  {
   "cell_type": "code",
   "execution_count": 11,
   "metadata": {},
   "outputs": [],
   "source": [
    "# idx 열 추가 + index 업데이트\n",
    "data.insert(0, 'idx', range(1, len(data) + 1))\n",
    "data.index = data['idx']"
   ]
  },
  {
   "cell_type": "code",
   "execution_count": 12,
   "metadata": {},
   "outputs": [],
   "source": [
    "def make_format(y):\n",
    "    user = data['idx']\n",
    "    items = y\n",
    "    user_features = data.apply(lambda row: row[1:8].tolist(), axis=1).to_dict()\n",
    "    return user, items, user_features\n",
    "\n",
    "user, item, user_features = make_format(data['end'])\n"
   ]
  },
  {
   "cell_type": "code",
   "execution_count": 6,
   "metadata": {},
   "outputs": [
    {
     "data": {
      "text/plain": [
       "[507, 664, 417, 517]"
      ]
     },
     "execution_count": 6,
     "metadata": {},
     "output_type": "execute_result"
    }
   ],
   "source": [
    "item[100]"
   ]
  },
  {
   "cell_type": "code",
   "execution_count": 14,
   "metadata": {},
   "outputs": [],
   "source": [
    "li = []\n",
    "for i in range(1,len(user)+1):\n",
    "    for j in range(len(item[i])):\n",
    "        li.append([i,item[i][j]])  "
   ]
  },
  {
   "cell_type": "code",
   "execution_count": 15,
   "metadata": {},
   "outputs": [],
   "source": [
    "import random\n",
    "for i in range(len(li)):\n",
    "    li[i].append(random.randint(1, 5))"
   ]
  },
  {
   "cell_type": "code",
   "execution_count": 18,
   "metadata": {},
   "outputs": [],
   "source": [
    "pd.DataFrame(li, columns=['idx','end','score']).to_csv('busan/end_score.csv', index=False)"
   ]
  },
  {
   "cell_type": "code",
   "execution_count": 82,
   "metadata": {},
   "outputs": [],
   "source": [
    "data = data[['idx','start','main','end']]"
   ]
  },
  {
   "cell_type": "code",
   "execution_count": null,
   "metadata": {},
   "outputs": [
    {
     "data": {
      "text/plain": [
       "648708            [517, 477, 541, 507]\n",
       "274235                           [459]\n",
       "642109             [172, 139, 11, 335]\n",
       "613348    [172, 171, 409, 59, 61, 121]\n",
       "206677            [477, 610, 154, 312]\n",
       "                      ...             \n",
       "5858         [479, 664, 227, 406, 442]\n",
       "622829                            [14]\n",
       "533023       [517, 639, 285, 477, 541]\n",
       "95467                            [477]\n",
       "125427                 [477, 639, 285]\n",
       "Name: start, Length: 100, dtype: object"
      ]
     },
     "execution_count": 51,
     "metadata": {},
     "output_type": "execute_result"
    }
   ],
   "source": [
    "def change_to_format(data, y):\n",
    "    expanded_rows = []\n",
    "    for index, row in data.iterrows():\n",
    "        id_value = row[\"idx\"]\n",
    "        values = y\n",
    "        for value in values:\n",
    "            expanded_rows.append([id_value, value])\n",
    "\n",
    "    # 새로운 데이터프레임으로 변환\n",
    "    expanded_df = pd.DataFrame(expanded_rows, columns=[\"ID\", \"Value\"])\n"
   ]
  },
  {
   "cell_type": "code",
   "execution_count": null,
   "metadata": {},
   "outputs": [],
   "source": []
  },
  {
   "cell_type": "code",
   "execution_count": null,
   "metadata": {},
   "outputs": [],
   "source": [
    "data.iloc[:,:8].to_csv('busan/user_features.csv', index=False)"
   ]
  }
 ],
 "metadata": {
  "kernelspec": {
   "display_name": "Python 3",
   "language": "python",
   "name": "python3"
  },
  "language_info": {
   "codemirror_mode": {
    "name": "ipython",
    "version": 3
   },
   "file_extension": ".py",
   "mimetype": "text/x-python",
   "name": "python",
   "nbconvert_exporter": "python",
   "pygments_lexer": "ipython3",
   "version": "3.11.0"
  }
 },
 "nbformat": 4,
 "nbformat_minor": 2
}
